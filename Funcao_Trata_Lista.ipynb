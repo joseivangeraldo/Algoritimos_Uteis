{
  "nbformat": 4,
  "nbformat_minor": 0,
  "metadata": {
    "colab": {
      "name": "Funcao_Trata_Lista.ipynb",
      "provenance": [],
      "collapsed_sections": [],
      "authorship_tag": "ABX9TyNkLK7sc3CLEKqzKXcZSzpY",
      "include_colab_link": true
    },
    "kernelspec": {
      "name": "python3",
      "display_name": "Python 3"
    },
    "language_info": {
      "name": "python"
    }
  },
  "cells": [
    {
      "cell_type": "markdown",
      "metadata": {
        "id": "view-in-github",
        "colab_type": "text"
      },
      "source": [
        "<a href=\"https://colab.research.google.com/github/joseivangeraldo/Algoritimos_Uteis/blob/main/Funcao_Trata_Lista.ipynb\" target=\"_parent\"><img src=\"https://colab.research.google.com/assets/colab-badge.svg\" alt=\"Open In Colab\"/></a>"
      ]
    },
    {
      "cell_type": "code",
      "metadata": {
        "id": "Prw7XYAfDeku",
        "colab": {
          "base_uri": "https://localhost:8080/"
        },
        "outputId": "8557e55d-219c-4152-b4e2-621c08894a9e"
      },
      "source": [
        "'''\n",
        "Rotina criada por José Ivan Geraldo da Silva\n",
        "Guarulhos 16 de Outubro de 2021.\n",
        "Função que pega uma matriz como entrada.\n",
        "Pode-se escolher o indice que quer trabalhar\n",
        "Por exemplo :\n",
        "lista = [1,2,3,4,5,6,7,8,9,10] \n",
        "queremos começar com o numero 3, que esta no indice 2,\n",
        "e pular , de 2 em 2 indices,então chamamos a funcao:\n",
        "escolhe(lista , 2 , 2) \n",
        "output >> [3,5,7,9]\n",
        "'''\n",
        "def escolhe(l,p,s): ##l = minha lista , p = primeiro elemento , s = saltar elementos\n",
        "\tlis=[]\n",
        "\tprimeiro = p\n",
        "\tultimo=len(l)-1\t\n",
        "\n",
        "\tfor j in range(len(l)):\n",
        "\t\t\twhile primeiro <= ultimo:\n",
        "\t\t\t\tlis.append(l[primeiro])\n",
        "\t\t\t\tif primeiro > ultimo:\n",
        "\t\t\t\t\treturn lis\n",
        "\t\t\t\telif primeiro <= ultimo:\n",
        "\t\t\t\t\tprimeiro += s ##aqui que vai o passo do salto\n",
        "\t\t\t\telif primeiro>ultimo:\n",
        "\t\t\t\t\treturn lis\t\n",
        "\t\t\t\t\n",
        "\treturn lis\n",
        "\t\n",
        "lista= [1,2,3,4,5,6,7,8,9,10]\n",
        "print(escolhe(lista,2,2))"
      ],
      "execution_count": null,
      "outputs": [
        {
          "output_type": "stream",
          "name": "stdout",
          "text": [
            "[3, 5, 7, 9]\n"
          ]
        }
      ]
    }
  ]
}